{
 "cells": [
  {
   "cell_type": "code",
   "execution_count": 1,
   "metadata": {},
   "outputs": [],
   "source": [
    "import openai \n",
    "import os\n",
    "import pandas as pd\n",
    "\n",
    "from dotenv import load_dotenv, find_dotenv\n",
    "_ = load_dotenv(find_dotenv()) # read local .env file\n",
    "\n",
    "openai.api_key = os.getenv('OPENAI_API_KEY')"
   ]
  },
  {
   "cell_type": "code",
   "execution_count": 2,
   "metadata": {},
   "outputs": [],
   "source": [
    "def get_completion(prompt, model=\"gpt-3.5-turbo\"): # Employing a prompt/ completion paradigm for this approach\n",
    "    messages = [{\"role\": \"user\", \"content\": prompt}]\n",
    "    response = openai.ChatCompletion.create(\n",
    "        model=model,\n",
    "        messages=messages,\n",
    "        temperature=0, # this is the degree of randomness of the model's output\n",
    "    )\n",
    "    return response.choices[0].message[\"content\"]"
   ]
  },
  {
   "attachments": {},
   "cell_type": "markdown",
   "metadata": {},
   "source": [
    "## Read the CSV file\n",
    "\n",
    "I'm going to ask ChatGPT to read the CSV file, and summarise it for me."
   ]
  },
  {
   "cell_type": "code",
   "execution_count": 3,
   "metadata": {},
   "outputs": [
    {
     "name": "stdout",
     "output_type": "stream",
     "text": [
      "Summary:\n",
      "\n",
      "Which AI/LLM tools are you currently experimenting with or actively using?\n",
      "- ChatGPT is the most commonly used tool among the respondents.\n",
      "- Bing AI and Google Bard are also being used by some respondents.\n",
      "- Notion AI is being used by one respondent.\n",
      "\n",
      "Which AI/LLM tools are you interested in using, and why?\n",
      "- Respondents are interested in exploring various AI/LLM tools.\n",
      "- Some are interested in image generating tools.\n",
      "- ChatGPT is the most commonly mentioned tool, followed by Bing AI.\n",
      "- Integration with existing tools is a factor that excites some respondents.\n",
      "\n",
      "What excites you about using AI/LLM tools?\n",
      "- Efficiency and productivity are the most commonly mentioned factors.\n",
      "- The potential to improve performance and provide more information is also exciting for some respondents.\n",
      "- Integration with existing tools is a factor that excites some respondents.\n",
      "\n",
      "What concerns you about using AI/LLM tools?\n",
      "- The fear of incorrect information being provided by AI is a common concern.\n",
      "- The possibility of AI taking over jobs is also a concern for some respondents.\n",
      "- Staying on top of the latest developments in AI is a concern for some respondents.\n",
      "\n",
      "Overall, respondents are actively using ChatGPT and are interested in exploring various AI/LLM tools. Efficiency and productivity are the most exciting factors, while the fear of incorrect information and AI taking over jobs are common concerns. Staying on top of the latest developments in AI is also a concern for some respondents.\n"
     ]
    }
   ],
   "source": [
    "feedback = pd.read_csv(\"data/productivity_with_ai_responses.csv\")\n",
    "\n",
    "prompt = f\"\"\"\n",
    "Your task is to review the {feedback} file and provide feedback on the following questions: \\\n",
    "1. Please summarize the responses under the 'Which AI/LLM tools are you currently experimenting with or actively using?' column \\\n",
    "2. Please summarize the responses under the 'Which AI/LLM tools are you interested in using, and why?' column \\\n",
    "3. Please summarize the responses under the 'What excites you about using AI/LLM tools?' column \\\n",
    "4. Please also summarize the responses under the 'What concerns you about using AI/LLM tools?' column \\\n",
    "\n",
    "Please separate each summary with a new line, and add the question as a header for each summary that it relates to.\n",
    "\"\"\"\n",
    "\n",
    "response = get_completion(prompt)\n",
    "print(response)"
   ]
  },
  {
   "attachments": {},
   "cell_type": "markdown",
   "metadata": {},
   "source": [
    "### Which tools does the team prefer?\n",
    "\n",
    "I'm also interested in which tools the team prefers, and why they are interested in these tools."
   ]
  },
  {
   "cell_type": "code",
   "execution_count": 4,
   "metadata": {},
   "outputs": [
    {
     "name": "stdout",
     "output_type": "stream",
     "text": [
      "1. Currently used AI/LLM tools:\n",
      "- ChatGPT (5)\n",
      "- Bing AI (3)\n",
      "- Google Bard (1)\n",
      "- Notion AI (1)\n",
      "\n",
      "2. Summary of responses for each tool of interest:\n",
      "- ChatGPT: Users are interested in using ChatGPT for its ability to generate text and answer questions efficiently, increase productivity, and provide suggestions for writing.\n",
      "- Bing AI: Users are interested in using Bing AI for its potential to help with research and provide more information quickly.\n",
      "- Google Bard: One user mentioned using Google Bard, but did not provide a reason for interest.\n",
      "- Notion AI: One user mentioned using Notion AI, but did not provide a reason for interest.\n"
     ]
    }
   ],
   "source": [
    "prompt = f\"\"\"\n",
    "Your task is to review the {feedback} file and provide feedback on the following questions: \\\n",
    "\n",
    "1. From the responses in the 'Which AI/LLM tools are you currently experimenting with or actively using?' column \\\n",
    "please list the tools that are being used in a bullet list, and the number of times each tool is being used. \\\n",
    "2. Please summarize the responses under the 'Which AI/LLM tools are you interested in using, and why?' column \\\n",
    "for each of the tools listed in the previous question with each summary for each tool being a separate bullet point. \\\n",
    "\"\"\"\n",
    "\n",
    "response = get_completion(prompt)\n",
    "print(response)"
   ]
  }
 ],
 "metadata": {
  "kernelspec": {
   "display_name": "base",
   "language": "python",
   "name": "python3"
  },
  "language_info": {
   "codemirror_mode": {
    "name": "ipython",
    "version": 3
   },
   "file_extension": ".py",
   "mimetype": "text/x-python",
   "name": "python",
   "nbconvert_exporter": "python",
   "pygments_lexer": "ipython3",
   "version": "3.11.0"
  },
  "orig_nbformat": 4
 },
 "nbformat": 4,
 "nbformat_minor": 2
}
