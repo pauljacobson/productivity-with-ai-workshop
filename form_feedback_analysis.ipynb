{
 "cells": [
  {
   "cell_type": "code",
   "execution_count": null,
   "metadata": {},
   "outputs": [],
   "source": [
    "import openai \n",
    "import os\n",
    "import pandas as pd\n",
    "\n",
    "from dotenv import load_dotenv, find_dotenv\n",
    "_ = load_dotenv(find_dotenv()) # read local .env file\n",
    "\n",
    "openai.api_key = os.getenv('OPENAI_API_KEY')"
   ]
  },
  {
   "cell_type": "code",
   "execution_count": null,
   "metadata": {},
   "outputs": [],
   "source": [
    "def get_completion(prompt, model=\"gpt-3.5-turbo\"): # Andrew mentioned that the prompt/ completion paradigm is preferable for this class\n",
    "    messages = [{\"role\": \"user\", \"content\": prompt}]\n",
    "    response = openai.ChatCompletion.create(\n",
    "        model=model,\n",
    "        messages=messages,\n",
    "        temperature=0, # this is the degree of randomness of the model's output\n",
    "    )\n",
    "    return response.choices[0].message[\"content\"]"
   ]
  },
  {
   "attachments": {},
   "cell_type": "markdown",
   "metadata": {},
   "source": [
    "## Read the CSV file\n",
    "\n",
    "I'm going to ask ChatGPT to read the CSV file, and summarise it for me."
   ]
  },
  {
   "cell_type": "code",
   "execution_count": null,
   "metadata": {},
   "outputs": [],
   "source": [
    "feedback = pd.read_csv(\"data/productivity_with_ai_responses.csv\")\n",
    "\n",
    "prompt = f\"\"\"\n",
    "Your task is to review the {feedback} file and provide feedback on the following questions: \\\n",
    "1. Please summarize the responses under the 'Which AI/LLM tools are you currently experimenting with or actively using?' column \\\n",
    "2. Please summarize the responses under the 'Which AI/LLM tools are you interested in using, and why?' column \\\n",
    "3. Please summarize the responses under the 'What excites you about using AI/LLM tools?' column \\\n",
    "\n",
    "Please separate each summary with a new line, and add the question as a header for each summary that it relates to.\n",
    "\"\"\"\n",
    "\n",
    "response = get_completion(prompt)\n",
    "print(response)"
   ]
  },
  {
   "attachments": {},
   "cell_type": "markdown",
   "metadata": {},
   "source": [
    "### Which tools does the team prefer?\n",
    "\n",
    "I'm also interested in which tools the team prefers."
   ]
  },
  {
   "cell_type": "code",
   "execution_count": null,
   "metadata": {},
   "outputs": [],
   "source": [
    "prompt = f\"\"\"\n",
    "Your task is to review the {feedback} file and provide feedback on the following questions: \\\n",
    "\n",
    "1. From the responses in the 'Which AI/LLM tools are you currently experimenting with or actively using?' column \\\n",
    "please list the tools that are being used in a bullet list, and the number of times each tool is being used. \\\n",
    "2. Please summarize the responses under the 'Which AI/LLM tools are you interested in using, and why?' column \\\n",
    "for each of the tools listed in the previous question with each summary for each tool being a separate bullet point. \\\n",
    "\"\"\"\n",
    "\n",
    "response = get_completion(prompt)\n",
    "print(response)"
   ]
  }
 ],
 "metadata": {
  "kernelspec": {
   "display_name": "base",
   "language": "python",
   "name": "python3"
  },
  "language_info": {
   "codemirror_mode": {
    "name": "ipython",
    "version": 3
   },
   "file_extension": ".py",
   "mimetype": "text/x-python",
   "name": "python",
   "nbconvert_exporter": "python",
   "pygments_lexer": "ipython3",
   "version": "3.11.0"
  },
  "orig_nbformat": 4
 },
 "nbformat": 4,
 "nbformat_minor": 2
}
